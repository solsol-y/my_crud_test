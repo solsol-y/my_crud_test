{
 "cells": [
  {
   "cell_type": "code",
   "execution_count": 16,
   "metadata": {},
   "outputs": [
    {
     "name": "stdout",
     "output_type": "stream",
     "text": [
      "2.2.3\n",
      "2.2.5\n",
      "설치 완료\n"
     ]
    }
   ],
   "source": [
    "from mysql import connector\n",
    "import pandas as pd \n",
    "import numpy as np \n",
    "\n",
    "print(pd.__version__)\n",
    "print(np.__version__)\n",
    "print(\"설치 완료\")"
   ]
  },
  {
   "cell_type": "markdown",
   "metadata": {},
   "source": [
    "## DB 연결 코드\n",
    "- 여기서부터 시작 "
   ]
  },
  {
   "cell_type": "code",
   "execution_count": 2,
   "metadata": {},
   "outputs": [
    {
     "name": "stdout",
     "output_type": "stream",
     "text": [
      "Database object: <mysql.connector.connection.MySQLConnection object at 0x000002E151A08B90>\n"
     ]
    }
   ],
   "source": [
    "import os\n",
    "from mysql import connector\n",
    "\n",
    "PASSWORD = 'ysol1234'\n",
    "\n",
    "try:\n",
    "    with connector.connect(\n",
    "        host = \"localhost\",\n",
    "        user = \"root\",\n",
    "        password = PASSWORD\n",
    "    ) as database: \n",
    "        print(f\"Database object: {database}\")\n",
    "except connector.Error as e: \n",
    "    print(e)"
   ]
  },
  {
   "cell_type": "code",
   "execution_count": null,
   "metadata": {},
   "outputs": [],
   "source": []
  },
  {
   "cell_type": "code",
   "execution_count": null,
   "metadata": {},
   "outputs": [],
   "source": []
  },
  {
   "cell_type": "markdown",
   "metadata": {},
   "source": [
    "# DB 연결 추천 방식"
   ]
  },
  {
   "cell_type": "code",
   "execution_count": 3,
   "metadata": {},
   "outputs": [
    {
     "data": {
      "text/plain": [
       "'ysol1234'"
      ]
     },
     "execution_count": 3,
     "metadata": {},
     "output_type": "execute_result"
    }
   ],
   "source": [
    "import os \n",
    "from dotenv import load_dotenv\n",
    "\n",
    "load_dotenv(override=True)\n",
    "os.getenv('MYSQL_PASSWORD')"
   ]
  },
  {
   "cell_type": "code",
   "execution_count": 4,
   "metadata": {},
   "outputs": [
    {
     "name": "stdout",
     "output_type": "stream",
     "text": [
      "(2,)\n"
     ]
    }
   ],
   "source": [
    "from dotenv import load_dotenv\n",
    "import os\n",
    "import mysql.connector\n",
    "from mysql.connector import pooling\n",
    "\n",
    "# .env 파일 로드\n",
    "load_dotenv()\n",
    "\n",
    "# 데이터베이스 연결 설정\n",
    "db_config = {\n",
    "    'host': os.getenv('MYSQL_HOST'),\n",
    "    'port': int(os.getenv('MYSQL_PORT')),\n",
    "    'user': os.getenv('MYSQL_USER'),\n",
    "    'password': os.getenv('MYSQL_PASSWORD'),\n",
    "    'database': os.getenv('MYSQL_DATABASE'),\n",
    "    'charset': os.getenv('MYSQL_CHARSET')\n",
    "}\n",
    "\n",
    "# 커넥션 풀 설정\n",
    "pool_config = {\n",
    "    'pool_name': os.getenv('MYSQL_POOL_NAME'),\n",
    "    'pool_size': int(os.getenv('MYSQL_POOL_SIZE')),\n",
    "    'pool_reset_session': True,\n",
    "    **db_config\n",
    "}\n",
    "\n",
    "# 커넥션 풀 생성\n",
    "connection_pool = mysql.connector.pooling.MySQLConnectionPool(**pool_config)\n",
    "\n",
    "# 커넥션 풀 사용 예시\n",
    "def get_connection():\n",
    "    return connection_pool.get_connection()\n",
    "\n",
    "# 사용 예시\n",
    "try:\n",
    "    connection = get_connection()\n",
    "    cursor = connection.cursor()\n",
    "\n",
    "    sql_query = '''\n",
    "        SELECT 1+1;\n",
    "    '''\n",
    "    \n",
    "    # 쿼리 실행\n",
    "    cursor.execute(sql_query)\n",
    "    results = cursor.fetchall()\n",
    "    \n",
    "    for row in results:\n",
    "        print(row)\n",
    "        \n",
    "except mysql.connector.Error as err:\n",
    "    print(f\"Error: {err}\")\n",
    "finally:\n",
    "    if 'cursor' in locals():\n",
    "        cursor.close()\n",
    "    if 'connection' in locals():\n",
    "        connection.close()"
   ]
  },
  {
   "cell_type": "markdown",
   "metadata": {},
   "source": [
    "# 스키마 생성"
   ]
  },
  {
   "cell_type": "code",
   "execution_count": 11,
   "metadata": {},
   "outputs": [
    {
     "name": "stdout",
     "output_type": "stream",
     "text": [
      "Database object: <mysql.connector.connection.MySQLConnection object at 0x000002E151B699D0>\n",
      "1007 (HY000): Can't create database 'book_ratings'; database exists\n"
     ]
    }
   ],
   "source": [
    "import os\n",
    "from mysql import connector\n",
    "\n",
    "PASSWORD = 'ysol1234'\n",
    "\n",
    "try:\n",
    "    with connector.connect(\n",
    "        host = \"localhost\",\n",
    "        user = \"root\",\n",
    "        password = PASSWORD\n",
    "    ) as database: \n",
    "        print(f\"Database object: {database}\")\n",
    "        delete_db = 'DROP DATABASE book_ratings;'             # 스키마 삭제 명령어\n",
    "        create_db = 'CREATE DATABASE book_ratings;'           # 스키마 생성 명령어\n",
    "        with database.cursor() as cursor:\n",
    "            # cursor.execute(delete_db)\n",
    "            cursor.execute(create_db)\n",
    "\n",
    "            # 현재 존재하는 스키마 목록 확인\n",
    "            show_db = 'SHOW DATABASES;'\n",
    "            cursor.execute(show_db)\n",
    "            for db in cursor:\n",
    "                print(db)\n",
    "except connector.Error as e: \n",
    "    print(e)"
   ]
  },
  {
   "cell_type": "code",
   "execution_count": 12,
   "metadata": {},
   "outputs": [
    {
     "name": "stdout",
     "output_type": "stream",
     "text": [
      "Database object: <mysql.connector.connection.MySQLConnection object at 0x000002E151F04B10>\n",
      "('id', 'int', 'NO', 'PRI', None, 'auto_increment')\n",
      "('title', 'varchar(100)', 'YES', '', None, '')\n",
      "('author', 'varchar(100)', 'YES', '', None, '')\n",
      "('genre', 'varchar(100)', 'YES', '', None, '')\n",
      "('release_year', 'year', 'YES', '', None, '')\n"
     ]
    }
   ],
   "source": [
    "# 특정 스키마 지정 후, 연결 \n",
    "import os\n",
    "from mysql import connector\n",
    "\n",
    "create_book_table = \"\"\"\n",
    "CREATE TABLE books(\n",
    "    id INT NOT NULL AUTO_INCREMENT PRIMARY KEY,\n",
    "    title VARCHAR(100),\n",
    "    author VARCHAR(100),\n",
    "    genre VARCHAR(100),\n",
    "    release_year YEAR(4)\n",
    ")\n",
    "\"\"\"\n",
    "\n",
    "try:\n",
    "    with connector.connect(\n",
    "        host = \"localhost\",\n",
    "        user = \"root\",\n",
    "        password = 'ysol1234', \n",
    "        database = 'book_ratings' # 차이점\n",
    "    ) as database: \n",
    "        print(f\"Database object: {database}\")\n",
    "        with database.cursor() as cursor:\n",
    "            cursor.execute(create_book_table)\n",
    "            database.commit()\n",
    "\n",
    "            # 테이블 확인 \n",
    "            describe_books = 'DESCRIBE books;'\n",
    "            cursor.execute(describe_books)\n",
    "            result = cursor.fetchall()   # 모든 테이블 정보를 다 가지고 오는데, \n",
    "                                         # pandas 데이터프레임으로 오는 것이 아니라 리스트-튜플형태로 저장\n",
    "            for col in result:\n",
    "                print(col)\n",
    "            \n",
    "except connector.Error as e: \n",
    "    print(e)"
   ]
  },
  {
   "cell_type": "markdown",
   "metadata": {},
   "source": [
    "# 데이터 추가하기"
   ]
  },
  {
   "cell_type": "code",
   "execution_count": 13,
   "metadata": {},
   "outputs": [],
   "source": [
    "# INSERT SINGLE RECORD\n",
    "insert_single_record = \"INSERT INTO books (id, title, author, genre, release_year)\\\n",
    "    VALUES (%s, %s, %s, %s, %s)\"\n",
    "single_record = (\n",
    "    \"1\", \"Choose Yourself! Be Happy, Make Millions, Live the Dream\", \"James Altucher\", \"self-help\", \"2013\"\n",
    "    )\n",
    "\n",
    "try: \n",
    "    # Connect to existing database\n",
    "    with connector.connect(\n",
    "        host = \"localhost\",\n",
    "        user = \"root\",\n",
    "        password = PASSWORD,\n",
    "        database = \"book_ratings\"\n",
    "    ) as existing_database:\n",
    "        \n",
    "        # Create cursor object\n",
    "        with existing_database.cursor() as cursor:\n",
    "            cursor.execute(insert_single_record, single_record)\n",
    "            existing_database.commit()\n",
    "        \n",
    "except connector.Error as e: \n",
    "    print(e)\n",
    "\n",
    "# INSERT MULTIPLE RECORDS\n",
    "insert_multiple_records = \"INSERT INTO books (id, title, author, genre, release_year)\\\n",
    "    VALUES (%s, %s, %s, %s, %s)\"\n",
    "multiple_records = [\n",
    "    (\n",
    "        \"2\", \n",
    "        \"Skip the Line: The 10,000 Experiments Rule and Other Surprising Advice for Reaching Your Goals\",\n",
    "        \"James Altucher\",\n",
    "        \"self-help\",\n",
    "        \"2021\"        \n",
    "    ),\n",
    "    (\n",
    "        \"3\",\n",
    "        \"The Power of No: Because One Little Word Can Bring Health, Abundance, and Happiness\",\n",
    "        \"James Altucher\",\n",
    "        \"self-help\",\n",
    "        \"2014\"\n",
    "    ),\n",
    "    (\n",
    "        \"4\",\n",
    "        \"The 48 Laws of Power\",\n",
    "        \"Robert Greene\",\n",
    "        \"self-help\",\n",
    "        \"1998\"\n",
    "    ),\n",
    "    (\n",
    "        \"5\",\n",
    "        \"Mastery\",\n",
    "        \"Robert Greene\",\n",
    "        \"self-help\",\n",
    "        \"2012\"\n",
    "    ),\n",
    "    (\n",
    "        \"6\",\n",
    "        \"The Art of Seduction\",\n",
    "        \"Robert Greene\",\n",
    "        \"self-help\",\n",
    "        \"2001\"\n",
    "    ),\n",
    "]\n",
    "\n",
    "try: \n",
    "    # Connect to existing database\n",
    "    with connector.connect(\n",
    "        host = \"localhost\",\n",
    "        user = \"root\",\n",
    "        password = PASSWORD,\n",
    "        database = \"book_ratings\"\n",
    "    ) as existing_database:\n",
    "        \n",
    "        # Create cursor object\n",
    "        with existing_database.cursor() as cursor:\n",
    "            cursor.executemany(insert_multiple_records, multiple_records)\n",
    "            existing_database.commit()\n",
    "        \n",
    "except connector.Error as e: \n",
    "    print(e)"
   ]
  },
  {
   "cell_type": "markdown",
   "metadata": {},
   "source": [
    "# 데이터 조회"
   ]
  },
  {
   "cell_type": "code",
   "execution_count": 14,
   "metadata": {},
   "outputs": [
    {
     "name": "stdout",
     "output_type": "stream",
     "text": [
      "Database object: <mysql.connector.connection.MySQLConnection object at 0x000002E151A1EE50>\n",
      "(1, 'Choose Yourself! Be Happy, Make Millions, Live the Dream', 'James Altucher', 'self-help', 2013)\n",
      "(2, 'Skip the Line: The 10,000 Experiments Rule and Other Surprising Advice for Reaching Your Goals', 'James Altucher', 'self-help', 2021)\n",
      "(3, 'The Power of No: Because One Little Word Can Bring Health, Abundance, and Happiness', 'James Altucher', 'self-help', 2014)\n",
      "(4, 'The 48 Laws of Power', 'Robert Greene', 'self-help', 1998)\n",
      "(5, 'Mastery', 'Robert Greene', 'self-help', 2012)\n",
      "(6, 'The Art of Seduction', 'Robert Greene', 'self-help', 2001)\n"
     ]
    }
   ],
   "source": [
    "import os\n",
    "from mysql import connector\n",
    "\n",
    "PASSWORD = 'ysol1234'\n",
    "\n",
    "try:\n",
    "    with connector.connect(\n",
    "        host = \"localhost\",\n",
    "        user = \"root\",\n",
    "        password = PASSWORD, \n",
    "        database = 'book_ratings'\n",
    "    ) as database: \n",
    "        print(f\"Database object: {database}\")\n",
    "\n",
    "        # 조회 \n",
    "        select_query = 'SELECT * FROM books;'\n",
    "        with database.cursor() as cursor:\n",
    "            cursor.execute(select_query)\n",
    "\n",
    "            # 데이터 가져온 것을 출력\n",
    "            df = cursor.fetchall()\n",
    "            for result in df:\n",
    "                print(result)\n",
    "        \n",
    "except connector.Error as e: \n",
    "    print(e)"
   ]
  },
  {
   "cell_type": "code",
   "execution_count": 15,
   "metadata": {},
   "outputs": [
    {
     "name": "stdout",
     "output_type": "stream",
     "text": [
      "특정 컬럼을 선택한 DataFrame:\n",
      "           author  release_year\n",
      "0  James Altucher          2013\n",
      "1  James Altucher          2021\n",
      "2  James Altucher          2014\n",
      "3   Robert Greene          1998\n",
      "4   Robert Greene          2012\n",
      "5   Robert Greene          2001\n",
      "모든 컬럼을 포함한 DataFrame:\n",
      "   id                                              title          author  \\\n",
      "0   1  Choose Yourself! Be Happy, Make Millions, Live...  James Altucher   \n",
      "1   2  Skip the Line: The 10,000 Experiments Rule and...  James Altucher   \n",
      "2   3  The Power of No: Because One Little Word Can B...  James Altucher   \n",
      "3   4                               The 48 Laws of Power   Robert Greene   \n",
      "4   5                                            Mastery   Robert Greene   \n",
      "5   6                               The Art of Seduction   Robert Greene   \n",
      "\n",
      "       genre  release_year  \n",
      "0  self-help          2013  \n",
      "1  self-help          2021  \n",
      "2  self-help          2014  \n",
      "3  self-help          1998  \n",
      "4  self-help          2012  \n",
      "5  self-help          2001  \n"
     ]
    }
   ],
   "source": [
    "# 미션: 어떤 형태로든 Table을 조회해도 고유한 컬럼명을 가진 DataFrame으로 반환하는 함수 작성\n",
    "\n",
    "import mysql.connector as connector  # MySQL 데이터베이스 연결을 위한 라이브러리\n",
    "import pandas as pd  # 데이터를 DataFrame 형태로 다루기 위한 pandas\n",
    "\n",
    "PASSWORD = 'ysol1234'  # 실제 비밀번호로 대체 필요\n",
    "\n",
    "# 데이터베이스에서 쿼리 결과를 가져와서 pandas DataFrame으로 반환하는 함수\n",
    "def fetch_data_to_dataframe(query, database=None):\n",
    "    try: \n",
    "        # 기존 데이터베이스에 연결\n",
    "        with connector.connect(\n",
    "            host=\"localhost\",       # 호스트 주소\n",
    "            user=\"root\",            # 사용자명\n",
    "            password=PASSWORD,      # 비밀번호\n",
    "            database=database       # 사용할 데이터베이스 이름\n",
    "        ) as existing_database:\n",
    "            \n",
    "            # 커서(cursor) 객체 생성 (쿼리 실행에 사용)\n",
    "            with existing_database.cursor() as cursor:\n",
    "                cursor.execute(query)  # SQL 쿼리 실행\n",
    "                \n",
    "                # 컬럼 이름 추출 (cursor.description에서 컬럼명만 가져오기)\n",
    "                column_names = [i[0] for i in cursor.description]\n",
    "                \n",
    "                # 모든 결과 데이터 가져오기\n",
    "                returned_data = cursor.fetchall()\n",
    "                \n",
    "                # pandas DataFrame으로 변환\n",
    "                df = pd.DataFrame(returned_data, columns=column_names)\n",
    "                return df  # DataFrame 반환\n",
    "    \n",
    "    except connector.Error as e: \n",
    "        # 예외 발생 시 에러 출력 및 None 반환\n",
    "        print(e)\n",
    "        return None\n",
    "\n",
    "# [예제 1] 특정 컬럼(author, release_year)만 조회\n",
    "query_specific_cols = \"SELECT author, release_year FROM books\"\n",
    "df_specific_cols = fetch_data_to_dataframe(query_specific_cols, \"book_ratings\")\n",
    "if df_specific_cols is not None:\n",
    "    print(\"특정 컬럼을 선택한 DataFrame:\")\n",
    "    print(df_specific_cols)\n",
    "\n",
    "# [예제 2] 전체 컬럼(*) 조회\n",
    "query_all_cols = \"SELECT * FROM books\"\n",
    "df_all_cols = fetch_data_to_dataframe(query_all_cols, \"book_ratings\")\n",
    "if df_all_cols is not None:\n",
    "    print(\"모든 컬럼을 포함한 DataFrame:\")\n",
    "    print(df_all_cols)"
   ]
  }
 ],
 "metadata": {
  "kernelspec": {
   "display_name": "Python 3 (ipykernel)",
   "language": "python",
   "name": "python3"
  },
  "language_info": {
   "codemirror_mode": {
    "name": "ipython",
    "version": 3
   },
   "file_extension": ".py",
   "mimetype": "text/x-python",
   "name": "python",
   "nbconvert_exporter": "python",
   "pygments_lexer": "ipython3",
   "version": "3.11.9"
  }
 },
 "nbformat": 4,
 "nbformat_minor": 4
}
